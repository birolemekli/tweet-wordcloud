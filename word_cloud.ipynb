{
 "cells": [
  {
   "cell_type": "code",
   "execution_count": 18,
   "metadata": {},
   "outputs": [],
   "source": [
    "import pandas as pd \n",
    "import stylecloud"
   ]
  },
  {
   "cell_type": "code",
   "execution_count": 19,
   "metadata": {},
   "outputs": [],
   "source": [
    "data = pd.read_excel('./hepsi.xlsx')"
   ]
  },
  {
   "cell_type": "code",
   "execution_count": 20,
   "metadata": {},
   "outputs": [
    {
     "data": {
      "text/plain": [
       "263"
      ]
     },
     "execution_count": 20,
     "metadata": {},
     "output_type": "execute_result"
    }
   ],
   "source": [
    "pozitif=data[data['tags']==\"pozitif\"]\n",
    "negatif=data[data['tags']==\"negatif\"]\n",
    "len(pozitif)"
   ]
  },
  {
   "cell_type": "code",
   "execution_count": 21,
   "metadata": {},
   "outputs": [],
   "source": [
    "pozitif['tweet'].to_csv('olumlu.txt', sep='\\t', index=False)\n",
    "negatif['tweet'].to_csv('olumsuz.txt', sep='\\t', index=False)"
   ]
  },
  {
   "cell_type": "code",
   "execution_count": 22,
   "metadata": {},
   "outputs": [],
   "source": [
    "stylecloud.gen_stylecloud(output_name=\"olumlu.png\",file_path = 'olumlu.txt', colors=['#ecf0f1', '#3498db', '#e74c3c'],icon_name= \"fab fa-twitter\",\n",
    "                          palette=\"cartocolors.diverging.TealRose_3\", background_color=\"black\")"
   ]
  },
  {
   "cell_type": "code",
   "execution_count": 17,
   "metadata": {},
   "outputs": [],
   "source": [
    "stylecloud.gen_stylecloud(output_name=\"olumsuz.png\",file_path = 'olumsuz.txt', colors=['#ecf0f1', '#3498db', '#e74c3c'],icon_name= \"fab fa-twitter\",\n",
    "                          palette=\"cartocolors.diverging.TealRose_3\", background_color=\"black\")"
   ]
  }
 ],
 "metadata": {
  "kernelspec": {
   "display_name": "Python 3",
   "language": "python",
   "name": "python3"
  },
  "language_info": {
   "codemirror_mode": {
    "name": "ipython",
    "version": 3
   },
   "file_extension": ".py",
   "mimetype": "text/x-python",
   "name": "python",
   "nbconvert_exporter": "python",
   "pygments_lexer": "ipython3",
   "version": "3.6.8"
  }
 },
 "nbformat": 4,
 "nbformat_minor": 2
}
